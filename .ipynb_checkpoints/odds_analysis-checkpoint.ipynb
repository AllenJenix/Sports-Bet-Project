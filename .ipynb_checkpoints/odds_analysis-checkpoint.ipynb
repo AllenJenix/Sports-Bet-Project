{
 "cells": [
  {
   "cell_type": "code",
   "execution_count": 2,
   "id": "ac0549fe",
   "metadata": {},
   "outputs": [],
   "source": [
    "# 환급률\n",
    "def refund_rate(odds):\n",
    "    refund_rate = 100 / ((100 / odds[0]) + (100 / odds[1]) + (100 / odds[2]))\n",
    "    return refund_rate\n",
    "\n",
    "\n",
    "# 경기확률\n",
    "def match_probability(refund_rate, odds):  \n",
    "    winning_rate = refund_rate / odds[0]  * 100\n",
    "    drawing_rate = refund_rate / odds[1] * 100\n",
    "    losing_rate = refund_rate / odds[2] * 100\n",
    "    return winning_rate, drawing_rate, losing_rate\n",
    "\n",
    "\n",
    "# 적정 배당\n",
    "def appropriate_odds(foreign_odds, domestic_refund_rate, foreign_refund_rate):\n",
    "    # 승배당, 무배당, 패배당\n",
    "    appropriate_odds = []\n",
    "    for odds in foreign_odds:\n",
    "        temp = (odds * domestic_refund_rate) / foreign_refund_rate\n",
    "        appropriate_odds.append(temp)\n",
    "    return tuple(appropriate_odds)\n",
    "\n",
    "\n",
    "# 배당손상률\n",
    "def damage_odds_rate(domestic_odds, foreign_odds):\n",
    "    damage_odds_rate = []\n",
    "    for i in range(3):\n",
    "        DO = domestic_odds[i]\n",
    "        FO = foreign_odds[i]\n",
    "        damage_rate = (DO - FO) / (FO - 1) * 100\n",
    "        damage_odds_rate.append(damage_rate)\n",
    "    return tuple(damage_odds_rate)\n"
   ]
  },
  {
   "cell_type": "code",
   "execution_count": 3,
   "id": "f4d5fea0",
   "metadata": {},
   "outputs": [
    {
     "name": "stdout",
     "output_type": "stream",
     "text": [
      "적정배당 : (1.4334346864329466, 3.9749231795563915, 4.836742806982335)\n",
      "국내 경기확률 : (56.17448611329044, 24.164443747057902, 19.661070139651653)\n",
      "해외 경기확률 : (60.3506455042896, 21.763617737166385, 17.88573675854401)\n"
     ]
    }
   ],
   "source": [
    "proto_odds = (1.54, 3.58, 4.40)\n",
    "onexbet_odds = (1.63, 4.52, 5.5)\n",
    "\n",
    "proto_refund = refund_rate(proto_odds)\n",
    "onexbet_refund = refund_rate(onexbet_odds)\n",
    "\n",
    "print(\"적정배당 : {}\".format(appropriate_odds(onexbet_odds, proto_refund, onexbet_refund)))\n",
    "print(\"국내 경기확률 : {}\".format(match_probability(refund_rate(proto_odds), proto_odds)))\n",
    "print(\"해외 경기확률 : {}\".format(match_probability(refund_rate(onexbet_odds), onexbet_odds)))"
   ]
  }
 ],
 "metadata": {
  "kernelspec": {
   "display_name": "Conda",
   "language": "python",
   "name": "conda"
  },
  "language_info": {
   "codemirror_mode": {
    "name": "ipython",
    "version": 3
   },
   "file_extension": ".py",
   "mimetype": "text/x-python",
   "name": "python",
   "nbconvert_exporter": "python",
   "pygments_lexer": "ipython3",
   "version": "3.9.10"
  }
 },
 "nbformat": 4,
 "nbformat_minor": 5
}
